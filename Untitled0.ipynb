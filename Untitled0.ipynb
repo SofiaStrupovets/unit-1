{
  "nbformat": 4,
  "nbformat_minor": 0,
  "metadata": {
    "colab": {
      "name": "Untitled0.ipynb",
      "provenance": [],
      "authorship_tag": "ABX9TyMqH86dy9FimKiGxwf0tjPx",
      "include_colab_link": true
    },
    "kernelspec": {
      "name": "python3",
      "display_name": "Python 3"
    },
    "language_info": {
      "name": "python"
    }
  },
  "cells": [
    {
      "cell_type": "markdown",
      "metadata": {
        "id": "view-in-github",
        "colab_type": "text"
      },
      "source": [
        "<a href=\"https://colab.research.google.com/github/SofiaStrupovets/unit-1/blob/main/Untitled0.ipynb\" target=\"_parent\"><img src=\"https://colab.research.google.com/assets/colab-badge.svg\" alt=\"Open In Colab\"/></a>"
      ]
    },
    {
      "cell_type": "markdown",
      "metadata": {
        "id": "O5xCE67ZwRBR"
      },
      "source": [
        "#Programming excersises\n",
        "\n",
        "### 1)Write a program that calculates the addition of all integer numbers from 0 to 2021\n",
        "\n",
        "We will use the arithmetic seqeunce"
      ]
    },
    {
      "cell_type": "code",
      "metadata": {
        "colab": {
          "base_uri": "https://localhost:8080/"
        },
        "id": "iIamoUqNsyCS",
        "outputId": "bae78f2c-b37b-40c3-bf03-85e08a42eeec"
      },
      "source": [
        "start_num = 0\n",
        "end_num = 2021\n",
        "n = end_num\n",
        "\n",
        "result = n*(n+1)/2 #calculate the addition\n",
        "\n",
        "print(\"The addition of integers from\", start_num, \"to\",end_num, \"is:\", result) #show the result\n"
      ],
      "execution_count": 1,
      "outputs": [
        {
          "output_type": "stream",
          "text": [
            "The addition of integers from 0 to 2021 is: 2043231.0\n"
          ],
          "name": "stdout"
        }
      ]
    },
    {
      "cell_type": "code",
      "metadata": {
        "id": "TBIH27UMsa1z"
      },
      "source": [
        "#printing using f-strings\n",
        "print(f\"The addition of integers from {start_num} to {end_num} is {result}\")"
      ],
      "execution_count": null,
      "outputs": []
    },
    {
      "cell_type": "markdown",
      "metadata": {
        "id": "cY0BCX6Ayamw"
      },
      "source": [
        "### 2) Write a program that calculates the value of y"
      ]
    },
    {
      "cell_type": "code",
      "metadata": {
        "colab": {
          "base_uri": "https://localhost:8080/"
        },
        "id": "C2-1IsLoypbb",
        "outputId": "c8168b4f-ded9-4f5a-e070-1994fff8a883"
      },
      "source": [
        "x = int(input(\"Enter any number \")) #This program calculates the value of y\n",
        "\n",
        "y = 2*(x+3)-3\n",
        "\n",
        "print(\"The value of y is \", y)"
      ],
      "execution_count": 1,
      "outputs": [
        {
          "output_type": "stream",
          "text": [
            "Enter any number 2\n",
            "The value of y is  7\n"
          ],
          "name": "stdout"
        }
      ]
    },
    {
      "cell_type": "markdown",
      "metadata": {
        "id": "Y_T9J9IT0Zr5"
      },
      "source": [
        "### 3) Write a program that asks the user for his name and grade and outputs the user's e-mail address at UWC ISAK"
      ]
    },
    {
      "cell_type": "code",
      "metadata": {
        "colab": {
          "base_uri": "https://localhost:8080/"
        },
        "id": "yVPFjBFO01Gk",
        "outputId": "9d4b1b66-4ec2-40e3-d094-2ba9c410b00a"
      },
      "source": [
        "print('Hello, what is your first name?') #creating uwc isak emails\n",
        "\n",
        "name = input(\"Enter your first name here \")\n",
        "\n",
        "print(\"What is your last name?\")\n",
        "\n",
        "last_name = input(\"Enter your last name here \")\n",
        "\n",
        "print(\"What is your grade(10,11 or 12)?\")\n",
        "\n",
        "grade = int(input(\"Enter your grade here \"))\n",
        "\n",
        "year = (2034 - grade)\n",
        "\n",
        "print(f\"Your email is {year}.{name}.{last_name}@uwcisak.jp\")\n",
        "\n"
      ],
      "execution_count": 1,
      "outputs": [
        {
          "output_type": "stream",
          "text": [
            "Hello, what is your first name?\n",
            "Enter your first name here s\n",
            "What is your last name?\n",
            "Enter your last name here s\n",
            "What is your grade(10,11 or 12)?\n",
            "Enter your grade here 11\n",
            "Your email is 2023.s.s@uwcisak.jp\n"
          ],
          "name": "stdout"
        }
      ]
    },
    {
      "cell_type": "markdown",
      "metadata": {
        "id": "Ew_LFQQQyzoX"
      },
      "source": [
        "### 4)Write a program that converts a temperature from Fahrenheit to Celsius. "
      ]
    },
    {
      "cell_type": "code",
      "metadata": {
        "colab": {
          "base_uri": "https://localhost:8080/"
        },
        "id": "N0_LBBYyytkI",
        "outputId": "3677c3d9-4ecd-4094-d620-07b66aebe40c"
      },
      "source": [
        "f = int(input(\"Enter a temperature in Fahrenheits \"))\n",
        "\n",
        "c = (f-32)*5/9\n",
        "\n",
        "print(f\"The temperature in Celsiums is {c}\")"
      ],
      "execution_count": 1,
      "outputs": [
        {
          "output_type": "stream",
          "text": [
            "Enter a temperature in Fahrenheits 32\n",
            "The temperature in Celsiums is 0.0\n"
          ],
          "name": "stdout"
        }
      ]
    }
  ]
}
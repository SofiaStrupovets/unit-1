{
  "nbformat": 4,
  "nbformat_minor": 0,
  "metadata": {
    "colab": {
      "name": "Untitled0.ipynb",
      "provenance": [],
      "collapsed_sections": [],
      "authorship_tag": "ABX9TyMmZUimN1cO57U8bpVl63+/",
      "include_colab_link": true
    },
    "kernelspec": {
      "name": "python3",
      "display_name": "Python 3"
    },
    "language_info": {
      "name": "python"
    }
  },
  "cells": [
    {
      "cell_type": "markdown",
      "metadata": {
        "id": "view-in-github",
        "colab_type": "text"
      },
      "source": [
        "<a href=\"https://colab.research.google.com/github/SofiaStrupovets/unit-1/blob/main/Untitled0.ipynb\" target=\"_parent\"><img src=\"https://colab.research.google.com/assets/colab-badge.svg\" alt=\"Open In Colab\"/></a>"
      ]
    },
    {
      "cell_type": "markdown",
      "metadata": {
        "id": "O5xCE67ZwRBR"
      },
      "source": [
        "#Programming excersises\n",
        "\n",
        "### 1)Write a program that calculates the addition of all integer numbers from 0 to 2021\n",
        "\n",
        "We will use the arithmetic seqeunce"
      ]
    },
    {
      "cell_type": "code",
      "metadata": {
        "colab": {
          "base_uri": "https://localhost:8080/"
        },
        "id": "iIamoUqNsyCS",
        "outputId": "bae78f2c-b37b-40c3-bf03-85e08a42eeec"
      },
      "source": [
        "start_num = 0\n",
        "end_num = 2021\n",
        "n = end_num\n",
        "\n",
        "result = n*(n+1)/2 #calculate the addition\n",
        "\n",
        "print(\"The addition of integers from\", start_num, \"to\",end_num, \"is:\", result) #show the result\n"
      ],
      "execution_count": null,
      "outputs": [
        {
          "output_type": "stream",
          "text": [
            "The addition of integers from 0 to 2021 is: 2043231.0\n"
          ],
          "name": "stdout"
        }
      ]
    },
    {
      "cell_type": "code",
      "metadata": {
        "id": "TBIH27UMsa1z"
      },
      "source": [
        "#printing using f-strings\n",
        "print(f\"The addition of integers from {start_num} to {end_num} is {result}\")"
      ],
      "execution_count": null,
      "outputs": []
    },
    {
      "cell_type": "markdown",
      "metadata": {
        "id": "cY0BCX6Ayamw"
      },
      "source": [
        "### 2) Write a program that calculates the value of y"
      ]
    },
    {
      "cell_type": "code",
      "metadata": {
        "colab": {
          "base_uri": "https://localhost:8080/"
        },
        "id": "C2-1IsLoypbb",
        "outputId": "c8168b4f-ded9-4f5a-e070-1994fff8a883"
      },
      "source": [
        "x = int(input(\"Enter any number \")) #This program calculates the value of y\n",
        "\n",
        "y = 2*(x+3)-3\n",
        "\n",
        "print(\"The value of y is \", y)"
      ],
      "execution_count": null,
      "outputs": [
        {
          "output_type": "stream",
          "text": [
            "Enter any number 2\n",
            "The value of y is  7\n"
          ],
          "name": "stdout"
        }
      ]
    },
    {
      "cell_type": "markdown",
      "metadata": {
        "id": "Y_T9J9IT0Zr5"
      },
      "source": [
        "### 3) Write a program that asks the user for his name and grade and outputs the user's e-mail address at UWC ISAK"
      ]
    },
    {
      "cell_type": "code",
      "metadata": {
        "colab": {
          "base_uri": "https://localhost:8080/"
        },
        "id": "yVPFjBFO01Gk",
        "outputId": "9d4b1b66-4ec2-40e3-d094-2ba9c410b00a"
      },
      "source": [
        "print('Hello, what is your first name?') #creating uwc isak emails\n",
        "\n",
        "name = input(\"Enter your first name here \")\n",
        "\n",
        "print(\"What is your last name?\")\n",
        "\n",
        "last_name = input(\"Enter your last name here \")\n",
        "\n",
        "print(\"What is your grade(10,11 or 12)?\")\n",
        "\n",
        "grade = int(input(\"Enter your grade here \"))\n",
        "\n",
        "year = (2034 - grade)\n",
        "\n",
        "print(f\"Your email is {year}.{name}.{last_name}@uwcisak.jp\")\n",
        "\n"
      ],
      "execution_count": null,
      "outputs": [
        {
          "output_type": "stream",
          "text": [
            "Hello, what is your first name?\n",
            "Enter your first name here s\n",
            "What is your last name?\n",
            "Enter your last name here s\n",
            "What is your grade(10,11 or 12)?\n",
            "Enter your grade here 11\n",
            "Your email is 2023.s.s@uwcisak.jp\n"
          ],
          "name": "stdout"
        }
      ]
    },
    {
      "cell_type": "markdown",
      "metadata": {
        "id": "Ew_LFQQQyzoX"
      },
      "source": [
        "### 4)Write a program that converts a temperature from Fahrenheit to Celsius. "
      ]
    },
    {
      "cell_type": "code",
      "metadata": {
        "colab": {
          "base_uri": "https://localhost:8080/"
        },
        "id": "N0_LBBYyytkI",
        "outputId": "3677c3d9-4ecd-4094-d620-07b66aebe40c"
      },
      "source": [
        "f = int(input(\"Enter a temperature in Fahrenheits \"))\n",
        "\n",
        "c = (f-32)*5/9\n",
        "\n",
        "print(f\"The temperature in Celsiums is {c}\")"
      ],
      "execution_count": null,
      "outputs": [
        {
          "output_type": "stream",
          "text": [
            "Enter a temperature in Fahrenheits 32\n",
            "The temperature in Celsiums is 0.0\n"
          ],
          "name": "stdout"
        }
      ]
    },
    {
      "cell_type": "markdown",
      "metadata": {
        "id": "3u0Hf9I344U-"
      },
      "source": [
        "### 5) Write a program to convert from miles to kilometers\n",
        "\n",
        "$$miles = 1.609*km$$"
      ]
    },
    {
      "cell_type": "code",
      "metadata": {
        "colab": {
          "base_uri": "https://localhost:8080/"
        },
        "id": "nXZeMLJA5EKd",
        "outputId": "9d8e2368-a437-4b24-d2fa-ac0ef38e35b1"
      },
      "source": [
        "#Step 1: ask the user for the miles \n",
        "#Step 2: store the value entered by the user in a variable\n",
        "#Step 3: calculate kilometers as miles * (1/1.609)\n",
        "#Step 4: print out the result to the user. Nicely written\n",
        "\n",
        "miles = int(input('Please, enter the miles (use only integer values)'))\n",
        "kilometers = (1.609)* miles\n",
        "print(f'{miles} miles are equal to {kilometers} km')\n"
      ],
      "execution_count": 3,
      "outputs": [
        {
          "output_type": "stream",
          "text": [
            "Please, enter the miles (use only integer values)100\n",
            "100 miles are equal to 160.9 km\n"
          ],
          "name": "stdout"
        }
      ]
    },
    {
      "cell_type": "markdown",
      "metadata": {
        "id": "mfMUlkm_682r"
      },
      "source": [
        "###6)Write a program that solves the Quadratic Equation for valid inputs a, b, c\n",
        "\n",
        "$$ax² + bx + c = 0$$\n"
      ]
    },
    {
      "cell_type": "code",
      "metadata": {
        "colab": {
          "base_uri": "https://localhost:8080/"
        },
        "id": "KOqSGpdb-Agl",
        "outputId": "32b8c3c1-c685-4023-9296-de6af23680e6"
      },
      "source": [
        "a = int(input('Please, enter the value of a ')) #Step1: ask the user for a\n",
        "b = int(input('Please, enter the value of b ')) #Step2: ask the user for b\n",
        "c = int(input('Please, enter the value of c ')) #Step3: ask the oser for c\n",
        "\n",
        "D = (b*b - 4*a*c) #Step4: formula for discriminant\n",
        "\n",
        "if D >= 0 : #Step5: formula when the answer exists\n",
        "  import math \n",
        "  x1 = ((-b) + math.sqrt(D))/(2*a)\n",
        "  x2 = ((-b) - math.sqrt(D))/(2*a)\n",
        "  print(f'Your answer is {x1}, {x2}')\n",
        "else :  #Step6: the answer when D<0(the answer does not exist)\n",
        "  print('The answer does not exist')\n",
        "\n"
      ],
      "execution_count": 2,
      "outputs": [
        {
          "output_type": "stream",
          "text": [
            "Please, enter the value of a 1\n",
            "Please, enter the value of b -8\n",
            "Please, enter the value of c 12\n",
            "Your answer is 6.0, 2.0\n"
          ],
          "name": "stdout"
        }
      ]
    },
    {
      "cell_type": "markdown",
      "metadata": {
        "id": "88Byj1MUHG2a"
      },
      "source": [
        "###7)Write a program to reverse a number entered by the user\n",
        "Ex. input 123; output 321"
      ]
    },
    {
      "cell_type": "code",
      "metadata": {
        "colab": {
          "base_uri": "https://localhost:8080/"
        },
        "id": "-rQv27ZHLArk",
        "outputId": "f6d0210b-3409-4bad-f868-e6f884f627f1"
      },
      "source": [
        "noun = 'animal'\n",
        "# Indexing to get the first letter, remember we start counting at 0\n",
        "print(noun[0])\n",
        "\n",
        "#Print the last letter in the string\n",
        "print(noun[5])\n",
        "print(noun[-1])\n",
        "\n",
        "# Get a part or substracting [start:end:step], end is not included\n",
        "print(noun[0:-1:2])\n",
        "\n",
        "# reverse the word using indexing\n",
        "print(noun[-1:0:-1])\n",
        "\n",
        "\n",
        "age = 50\n",
        "str_age = str(age) # converting a number to string\n",
        "print(str_age[1], str_age[0])\n"
      ],
      "execution_count": 4,
      "outputs": [
        {
          "output_type": "stream",
          "text": [
            "a\n",
            "l\n",
            "l\n",
            "aia\n",
            "lamin\n",
            "0 5\n"
          ],
          "name": "stdout"
        }
      ]
    },
    {
      "cell_type": "markdown",
      "metadata": {
        "id": "FnqFZM5xhWfT"
      },
      "source": [
        "###8)Write a program that asks the user for their name, age, nationality and produces a greeting message\n",
        "\n",
        "Ex: “Welcome John Doe you are 30 years old and a national of Colombia\""
      ]
    },
    {
      "cell_type": "code",
      "metadata": {
        "colab": {
          "base_uri": "https://localhost:8080/"
        },
        "id": "Sda5dtU_hj4P",
        "outputId": "71a49451-a93c-4080-d003-ccebaa22fd2f"
      },
      "source": [
        "first_name = input('Hello, what is your first name? Enter it here ')\n",
        "\n",
        "last_name = input('What is your last name? Enter it here ')\n",
        "\n",
        "age = int(input('How old are you? Enter your age here '))\n",
        "\n",
        "nationality = input('What is your nationality? Enter your home country here ' )\n",
        "\n",
        "print(f'Welcome {first_name} {last_name} you are {age} years old and a national of {nationality}')\n"
      ],
      "execution_count": 1,
      "outputs": [
        {
          "output_type": "stream",
          "text": [
            "Hello, what is your first name? Enter it here Sofia\n",
            "What is your last name? Enter it here Strupovets\n",
            "How old are you? Enter your age here 17\n",
            "What is your nationality? Enter your home country here Russia\n",
            "Welcome Sofia Strupovets you are 17 years old and a national of Russia\n"
          ],
          "name": "stdout"
        }
      ]
    },
    {
      "cell_type": "markdown",
      "metadata": {
        "id": "hQrU7_0CjGk_"
      },
      "source": [
        "###9)Create one more program that converts between different units.\n",
        "\n",
        "This programs converts km/h to m/s"
      ]
    },
    {
      "cell_type": "code",
      "metadata": {
        "colab": {
          "base_uri": "https://localhost:8080/"
        },
        "id": "lL37Z-s2jLB6",
        "outputId": "e4bb94ef-9a64-4222-d549-420eae12e13e"
      },
      "source": [
        "km_h = int(input('Enter km/h '))\n",
        "\n",
        "m_s = km_h*(1000)/3600\n",
        "\n",
        "print(f'{km_h} km/h equals to {m_s} m/s')"
      ],
      "execution_count": 1,
      "outputs": [
        {
          "output_type": "stream",
          "text": [
            "Enter km/h 72\n",
            "72 km/h equals to 20.0 m/s\n"
          ],
          "name": "stdout"
        }
      ]
    }
  ]
}
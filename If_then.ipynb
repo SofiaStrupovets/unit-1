{
  "nbformat": 4,
  "nbformat_minor": 0,
  "metadata": {
    "colab": {
      "name": "If/then.ipynb",
      "provenance": [],
      "collapsed_sections": [],
      "authorship_tag": "ABX9TyNMDmPdj3XWtSK+RqtQ2GDt",
      "include_colab_link": true
    },
    "kernelspec": {
      "name": "python3",
      "display_name": "Python 3"
    },
    "language_info": {
      "name": "python"
    }
  },
  "cells": [
    {
      "cell_type": "markdown",
      "metadata": {
        "id": "view-in-github",
        "colab_type": "text"
      },
      "source": [
        "<a href=\"https://colab.research.google.com/github/SofiaStrupovets/unit-1/blob/main/If_then.ipynb\" target=\"_parent\"><img src=\"https://colab.research.google.com/assets/colab-badge.svg\" alt=\"Open In Colab\"/></a>"
      ]
    },
    {
      "cell_type": "markdown",
      "metadata": {
        "id": "xYHxHutzgwQ6"
      },
      "source": [
        "###1)Create a program that organizes from largest to smallest three heights in cms entered by the user."
      ]
    },
    {
      "cell_type": "code",
      "metadata": {
        "colab": {
          "base_uri": "https://localhost:8080/"
        },
        "id": "bUEUerP8hD9j",
        "outputId": "bbd28d3e-cafe-4cb7-f344-6b1313a13263"
      },
      "source": [
        "a = int(input('Please enter the value of a here  cms'))\n",
        "b = int(input('Please enter the value of b here  cms'))\n",
        "c = int(input('Please enter the value of c here  cms'))\n",
        "\n",
        "if a > b:\n",
        "  #if a > b > c\n",
        "  if b > c:\n",
        "    print(f'Your answer is {a}cms, {b}cms, {c}cms')\n",
        "  #if a > c > b\n",
        "  else:\n",
        "    print(f'Your answer is {a}cms, {c}cms, {b}cms') \n",
        "elif b > a:\n",
        "  #if b > a > c\n",
        "  if a > c:\n",
        "    print(f'Your answer is {b}cms, {a}cms, {c}cms')\n",
        "  #if b > c > a\n",
        "  else:\n",
        "    print(f'Your answer is {b}cms, {c}cms, {a}cms')  \n",
        "else:\n",
        "  #if c > a > b\n",
        "  if c > a and a > b:\n",
        "    print(f'Your answer is {c}cms, {b}cms, {a}cms')\n",
        "  #if c > a > b\n",
        "  else:\n",
        "    print(f'Your answer is {c}cms, {a}cms, {b}cms')\n"
      ],
      "execution_count": 8,
      "outputs": [
        {
          "output_type": "stream",
          "text": [
            "Please enter the value of a here 8\n",
            "Please enter the value of b here 123\n",
            "Please enter the value of c here 4\n",
            "Your answer is 123, 8, 4\n"
          ],
          "name": "stdout"
        }
      ]
    },
    {
      "cell_type": "code",
      "metadata": {
        "id": "QL0WfrM-nDMU"
      },
      "source": [
        "###2)Create a program that calculates the tax for a salary entered by the user following the table below"
      ],
      "execution_count": null,
      "outputs": []
    },
    {
      "cell_type": "code",
      "metadata": {
        "colab": {
          "base_uri": "https://localhost:8080/"
        },
        "id": "43qn6wumnXLD",
        "outputId": "aea7151e-a140-41ac-ad83-210c74ef140d"
      },
      "source": [
        "salary = int(input('Please enter your salary here(in thousand US dollars) '))\n",
        "\n",
        "if salary > 10.000:\n",
        "  if salary > 50.000:\n",
        "    if salary > 100.000:\n",
        "      print(f'Your tax rate is 25%')\n",
        "    else:\n",
        "      print(f'Your tax rate is 15%')\n",
        "  else:\n",
        "    print(f'Your tax rate is 10%')\n",
        "else:\n",
        "  print(f'Your tax rate is 5%')\n",
        "  "
      ],
      "execution_count": 13,
      "outputs": [
        {
          "output_type": "stream",
          "text": [
            "Please enter your salary here(in thousand US dollars) 7\n",
            "Your tax rate is 5%\n"
          ],
          "name": "stdout"
        }
      ]
    },
    {
      "cell_type": "markdown",
      "metadata": {
        "id": "ixSpkRe0rssn"
      },
      "source": [
        "###3)Write a program to sort alphabetically three names entered by the user. \n"
      ]
    },
    {
      "cell_type": "code",
      "metadata": {
        "id": "x5h1O-TSrz53"
      },
      "source": [
        "name1 = input('Please enter first name here ')\n",
        "name2 = input('Please enter second name here ')\n",
        "name3 = input('Please enter third name here ')\n",
        "\n",
        "\n"
      ],
      "execution_count": null,
      "outputs": []
    }
  ]
}